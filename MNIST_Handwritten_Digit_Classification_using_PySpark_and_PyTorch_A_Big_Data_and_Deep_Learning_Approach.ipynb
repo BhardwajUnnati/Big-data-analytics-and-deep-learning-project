{
 "cells": [
  {
   "cell_type": "code",
   "execution_count": null,
   "metadata": {
    "colab": {
     "base_uri": "https://localhost:8080/"
    },
    "id": "g3azr-2_O2cs",
    "outputId": "5fd0fcd0-c2db-4f26-8bbe-41a7452e5735"
   },
   "outputs": [],
   "source": [
    "!pip install pyspark # Installing PySpark for distributed computing capabilities, allowing us to process large datasets across multiple nodes.\n",
    "!pip install torch torchvision # Installing Torch and torchvision for deep learning. Torch provides the core framework for building neural networks, and torchvision includes pre-trained models and datasets which are useful for computer vision tasks."
   ]
  },
  {
   "cell_type": "code",
   "execution_count": 1,
   "metadata": {
    "id": "ZZi0Muk5PHkL"
   },
   "outputs": [
    {
     "name": "stderr",
     "output_type": "stream",
     "text": [
      "/usr/lib/python3/dist-packages/scipy/__init__.py:146: UserWarning: A NumPy version >=1.17.3 and <1.25.0 is required for this version of SciPy (detected version 1.26.3\n",
      "  warnings.warn(f\"A NumPy version >={np_minversion} and <{np_maxversion}\"\n"
     ]
    }
   ],
   "source": [
    "from pyspark.sql import SparkSession # Importing SparkSession from pyspark.sql to initialize Spark's functionality.\n",
    "from pyspark.ml.feature import VectorAssembler # VectorAssembler is a feature transformer that merges multiple columns into a vector column.\n",
    "from pyspark.ml.classification import MultilayerPerceptronClassifier # MultilayerPerceptronClassifier for creating a neural network classifier within Spark's MLlib.\n",
    "from pyspark.ml.evaluation import MulticlassClassificationEvaluator # MulticlassClassificationEvaluator for evaluating the accuracy of classification models.\n",
    "from pyspark.ml.linalg import DenseVector # DenseVector is a local vector, primarily used for storing features and labels in MLlib.\n",
    "import torch # Importing PyTorch's core module which includes tensor computations with GPU acceleration.\n",
    "import torch.nn as nn # nn module in PyTorch provides a way to efficiently build large neural networks.\n",
    "import torch.optim as optim # Optim module in PyTorch includes various optimization algorithms for neural networks.\n",
    "from torchvision import datasets, transforms  # Datasets and transforms from torchvision for accessing and transforming image data.\n",
    "import matplotlib.pyplot as plt # matplotlib.pyplot is used for plotting graphs and visualizing data in a convenient way.v"
   ]
  },
  {
   "cell_type": "code",
   "execution_count": 2,
   "metadata": {
    "id": "zu7A1faAXAPq"
   },
   "outputs": [],
   "source": [
    "from pyspark.sql import SparkSession #Importing SparkSession from pyspark.sql to initiate a Spark application. SparkSession is the entry point to programming Spark with the Dataset and DataFrame API.\n",
    "from pyspark.ml.linalg import DenseVector #DenseVector is a part of pyspark.ml.linalg module, used for storing arrays of values for use in PySpark's MLlib. It's particularly useful for handling features and labels in machine learning models.\n",
    "import torch #Importing PyTorch, a deep learning framework that offers flexibility and speed in building complex neural network architectures.\n",
    "import torch.nn as nn #nn module from PyTorch, providing a set of classes and modules to construct neural networks. It includes layers, activation functions, and more, facilitating the building of deep learning models.\n",
    "import torch.optim as optim #optim module from PyTorch, offering various optimization algorithms for neural networks. It's used to update network parameters based on gradients computed during backpropagation.\n",
    "from torchvision import datasets, transforms #torchvision provides access to popular datasets, model architectures, and image transformations for computer vision. It's useful for both loading and preprocessing data for deep learning models."
   ]
  },
  {
   "cell_type": "code",
   "execution_count": 3,
   "metadata": {},
   "outputs": [
    {
     "name": "stderr",
     "output_type": "stream",
     "text": [
      "24/04/07 09:54:54 WARN Utils: Your hostname, muhammad-VM resolves to a loopback address: 127.0.1.1; using 10.0.2.15 instead (on interface enp0s3)\n",
      "24/04/07 09:54:54 WARN Utils: Set SPARK_LOCAL_IP if you need to bind to another address\n",
      "Setting default log level to \"WARN\".\n",
      "To adjust logging level use sc.setLogLevel(newLevel). For SparkR, use setLogLevel(newLevel).\n",
      "24/04/07 09:54:55 WARN NativeCodeLoader: Unable to load native-hadoop library for your platform... using builtin-java classes where applicable\n"
     ]
    }
   ],
   "source": [
    "#Initializing a SparkSession for the application named \"MNISTClassification\".\n",
    "#This session is configured for high-performance computing with substantial memory allocation:\n",
    "#\"spark.executor.memory\": Allocates 32 gigabytes of memory to each Spark executor. Executors are worker nodes' processes in charge of running individual tasks in a given Spark job.\n",
    "#\"spark.driver.memory\": Assigns 32 gigabytes of memory to the Spark driver process. The driver is the central coordinator, responsible for managing the distribution of data and tasks among the executors.\n",
    "#\"spark.driver.maxResultSize\": Sets the maximum size of serialized results that the driver can receive at 2 gigabytes. This helps in managing the amount of data transferred between executors and the driver, preventing OutOfMemory errors.\n",
    "# These settings are particularly useful for resource-intensive applications like processing and classifying MNIST dataset images, which can require significant computational power and memory.\n",
    "spark = SparkSession.builder \\\n",
    "    .appName(\"MNISTClassification\") \\\n",
    "    .config(\"spark.executor.memory\", \"32g\") \\\n",
    "    .config(\"spark.driver.memory\", \"32g\") \\\n",
    "    .config(\"spark.driver.maxResultSize\", \"2g\") \\\n",
    "    .getOrCreate()"
   ]
  },
  {
   "cell_type": "code",
   "execution_count": 5,
   "metadata": {
    "id": "sCwpErs-PLSj"
   },
   "outputs": [],
   "source": [
    "#Creating a transformation pipeline for preprocessing image data, particularly useful for image datasets like MNIST.\n",
    "#The transformation consists of two steps:\n",
    "#1. `transforms.ToTensor()`: Converts the input image to a PyTorch tensor. This is necessary because PyTorch models expect input data in tensor format. It also scales the image's pixel intensity values from [0, 255] to [0, 1].\n",
    "#2. `transforms.Normalize((0.1307,), (0.3081,))`: Normalizes the tensor image with mean = 0.1307 and standard deviation = 0.3081. These values are specific to the MNIST dataset and are used to standardize the pixel values, improving the convergence behavior of neural networks by ensuring that the input data has a mean of 0 and a standard deviation of 1.\n",
    "#This transformation is crucial for preparing the MNIST dataset for training and testing in neural network models.\n",
    "transform = transforms.Compose([\n",
    "    transforms.ToTensor(),\n",
    "    transforms.Normalize((0.1307,), (0.3081,))\n",
    "])"
   ]
  },
  {
   "cell_type": "code",
   "execution_count": 6,
   "metadata": {
    "id": "wY3BCepzXEjz"
   },
   "outputs": [],
   "source": [
    "#Loading the MNIST dataset for training and testing purposes using PyTorch's torchvision.datasets module.\n",
    "#The MNIST dataset consists of 28x28 pixel grayscale images of handwritten digits (0 through 9) and is commonly used for training various image processing systems.\n",
    "# Parameters for both training and test datasets:\n",
    "#-root: Specifies the directory where the MNIST dataset will be stored. './data' indicates a folder named 'data' in the current directory.\n",
    "#-transform: Applies the previously defined transformation pipeline to the dataset images, converting them to normalized tensors. This ensures the data is in the correct format and scale for neural network models.\n",
    "#-download: When set to True, the dataset will be downloaded from the internet if it's not already available at the specified 'root' directory. This is only needed for the training dataset here.\n",
    "#The 'train' parameter differentiates between loading the training dataset (train=True) and the test dataset (train=False):\n",
    "#-For training data, 'train=True' loads the subset of the dataset intended for training the model.\n",
    "#-For testing data, 'train=False' loads the subset intended for evaluating the model's performance.\n",
    "train_dataset = datasets.MNIST(root='./data', train=True, transform=transform, download=True)\n",
    "test_dataset = datasets.MNIST(root='./data', train=False, transform=transform)\n"
   ]
  },
  {
   "cell_type": "code",
   "execution_count": 7,
   "metadata": {
    "id": "X7wxLzENXEhd"
   },
   "outputs": [
    {
     "data": {
      "image/png": "[encoded data removed]",
      "text/plain": [
       "<Figure size 720x576 with 9 Axes>"
      ]
     },
     "metadata": {
      "needs_background": "light"
     },
     "output_type": "display_data"
    }
   ],
   "source": [
    "# Creating a figure to display images from the MNIST training dataset with matplotlib. \n",
    "# This visual representation helps in understanding the diversity and characteristics of the dataset.\n",
    "figure = plt.figure(figsize=(10, 8)) # Setting the size of the figure to 10x8 inches for better visibility.\n",
    "cols, rows = 3, 3 #Defining the grid layout to display the images. Here, we choose to display 3 columns and 3 rows, totaling 9 images.\n",
    "for i in range(1, cols * rows + 1): #Looping through the number of positions in the grid (cols * rows = 9) to place each image.\n",
    "    sample_idx = torch.randint(len(train_dataset), size=(1,)).item() #Randomly selecting an index to pick an image from the training dataset.\n",
    "    img, label = train_dataset[sample_idx] #Retrieving the image and its corresponding label using the randomly selected index.\n",
    "    figure.add_subplot(rows, cols, i)#Adding a subplot to the figure at the ith position in the grid.\n",
    "    plt.title(f'Label: {label}') #Setting the title of the subplot to display the image's label. This helps in identifying the digit the image represents.\n",
    "    plt.axis(\"off\") #Turning off the axis to ensure the focus is solely on the image without any distracting ticks or labels.\n",
    "    plt.imshow(img.squeeze(), cmap=\"gray\") #Displaying the image in grayscale to match the original format of MNIST images. The `squeeze()` function removes any singleton dimensions to ensure the image can be displayed properly.\n",
    "plt.show() # Displaying the figure with all the subplots."
   ]
  },
  {
   "cell_type": "code",
   "execution_count": 8,
   "metadata": {
    "id": "HIvoZ9V8RfOa"
   },
   "outputs": [],
   "source": [
    "# Converting the MNIST dataset from PyTorch tensors to PySpark's DenseVector format.\n",
    "# This transformation is crucial for integrating PyTorch's data handling capabilities with PySpark's MLlib for machine learning tasks.\n",
    "# The MNIST dataset, primarily used for image classification tasks, consists of images represented as PyTorch tensors in the `train_dataset` and `test_dataset`.\n",
    "# For each image in the datasets:\n",
    "# The `features` tensor, representing the image, is reshaped into a one-dimensional vector using `view(-1)`. This step flattens the 2D image (28x28 pixels) into a 1D array of 784 elements, suitable for input into machine learning models.\n",
    "# The `.numpy()` method converts the tensor into a NumPy array, a necessary step before creating a DenseVector, as PySpark's DenseVector does not directly accept PyTorch tensors.\n",
    "# `DenseVector()` then converts the NumPy array into a PySpark DenseVector, making the data compatible with PySpark's DataFrame API and MLlib.\n",
    "# The `label` for each image, indicating the digit it represents (0-9), is paired with its corresponding DenseVector in a tuple. This pairing forms the final dataset structure needed for supervised learning tasks in PySpark.\n",
    "# The resulting `train_data` and `test_data` lists consist of tuples, each containing a DenseVector of features and a corresponding label. These datasets are now ready for use in PySpark's machine learning pipelines.\n",
    "train_data = [(DenseVector(features.view(-1).numpy()), label) for features, label in train_dataset]\n",
    "test_data = [(DenseVector(features.view(-1).numpy()), label) for features, label in test_dataset]\n"
   ]
  },
  {
   "cell_type": "code",
   "execution_count": 9,
   "metadata": {
    "id": "CsDUOBY-PMkb",
    "scrolled": true
   },
   "outputs": [
    {
     "name": "stderr",
     "output_type": "stream",
     "text": [
      "24/04/07 09:55:25 WARN TaskSetManager: Stage 0 contains a task of very large size (31451 KiB). The maximum recommended task size is 1000 KiB.\n",
      "/usr/lib/python3/dist-packages/scipy/__init__.py:146: UserWarning: A NumPy version >=1.17.3 and <1.25.0 is required for this version of SciPy (detected version 1.26.3\n",
      "  warnings.warn(f\"A NumPy version >={np_minversion} and <{np_maxversion}\"\n",
      "24/04/07 09:55:28 WARN TaskSetManager: Stage 1 contains a task of very large size (31451 KiB). The maximum recommended task size is 1000 KiB.\n",
      "/usr/lib/python3/dist-packages/scipy/__init__.py:146: UserWarning: A NumPy version >=1.17.3 and <1.25.0 is required for this version of SciPy (detected version 1.26.3\n",
      "  warnings.warn(f\"A NumPy version >={np_minversion} and <{np_maxversion}\"\n"
     ]
    }
   ],
   "source": [
    "# Converting the training and testing datasets into Resilient Distributed Datasets (RDDs) and then to DataFrames for use in Spark's MLlib.\n",
    "# This process is essential for leveraging Spark's distributed computing capabilities, allowing for scalable machine learning tasks.\n",
    "# Parallelizing the datasets into RDDs:\n",
    "# - `spark.sparkContext.parallelize` method is used to distribute the `train_data` and `test_data` across the Spark cluster.\n",
    "# - `numSlices` parameter controls the number of partitions to cut the dataset into. This can affect the performance of the parallel operations. \n",
    "#  - For the training dataset, `numSlices=10` is used, aiming for a balance between parallelism and overhead.\n",
    "#  - For the testing dataset, `numSlices=2` is selected, considering it might be smaller or require less parallelism.\n",
    "# These RDDs allow for distributed operations but do not directly support the DataFrame operations and MLlib functionalities that are desired.\n",
    "# Converting RDDs to DataFrames:\n",
    "# - The `toDF` method converts the RDDs to DataFrames, specifying the column names [\"features\", \"label\"]. \n",
    "# - \"features\" column contains the DenseVector representing the flattened image data.\n",
    "# - \"label\" column contains the corresponding digit label for each image.\n",
    "# DataFrames offer more functionalities, are easier to work with for data analysis, and integrate seamlessly with Spark SQL and MLlib.\n",
    "train_rdd = spark.sparkContext.parallelize(train_data, numSlices=10)\n",
    "test_rdd = spark.sparkContext.parallelize(test_data, numSlices=2)\n",
    "# Creating DataFrames from RDDs for both training and testing datasets.\n",
    "train_df = train_rdd.toDF([\"features\", \"label\"])\n",
    "test_df = test_rdd.toDF([\"features\", \"label\"])"
   ]
  },
  {
   "cell_type": "code",
   "execution_count": 10,
   "metadata": {
    "id": "bAnv56Fgbfek"
   },
   "outputs": [
    {
     "name": "stderr",
     "output_type": "stream",
     "text": [
      "24/04/07 09:55:33 WARN TaskSetManager: Stage 2 contains a task of very large size (31451 KiB). The maximum recommended task size is 1000 KiB.\n",
      "/usr/lib/python3/dist-packages/scipy/__init__.py:146: UserWarning: A NumPy version >=1.17.3 and <1.25.0 is required for this version of SciPy (detected version 1.26.3\n",
      "  warnings.warn(f\"A NumPy version >={np_minversion} and <{np_maxversion}\"\n",
      "/usr/lib/python3/dist-packages/scipy/__init__.py:146: UserWarning: A NumPy version >=1.17.3 and <1.25.0 is required for this version of SciPy (detected version 1.26.3\n",
      "  warnings.warn(f\"A NumPy version >={np_minversion} and <{np_maxversion}\"\n",
      "/usr/lib/python3/dist-packages/scipy/__init__.py:146: UserWarning: A NumPy version >=1.17.3 and <1.25.0 is required for this version of SciPy (detected version 1.26.3\n",
      "  warnings.warn(f\"A NumPy version >={np_minversion} and <{np_maxversion}\"\n",
      "/usr/lib/python3/dist-packages/scipy/__init__.py:146: UserWarning: A NumPy version >=1.17.3 and <1.25.0 is required for this version of SciPy (detected version 1.26.3\n",
      "  warnings.warn(f\"A NumPy version >={np_minversion} and <{np_maxversion}\"\n",
      "24/04/07 09:56:44 WARN TaskSetManager: Stage 3 contains a task of very large size (31451 KiB). The maximum recommended task size is 1000 KiB.\n",
      "                                                                                \r"
     ]
    }
   ],
   "source": [
    "# Convert Spark DataFrames to PyTorch DataLoader\n",
    "train_data = train_df.select(\"features\", \"label\").rdd.map(lambda x: (x.features.toArray(), x.label)).collect()\n",
    "test_data = test_df.select(\"features\", \"label\").rdd.map(lambda x: (x.features.toArray(), x.label)).collect()"
   ]
  },
  {
   "cell_type": "code",
   "execution_count": 11,
   "metadata": {
    "colab": {
     "base_uri": "https://localhost:8080/"
    },
    "id": "BhP6llE0bfbs",
    "outputId": "a0c6d668-9e82-46aa-b263-b9765255fa3c"
   },
   "outputs": [
    {
     "name": "stderr",
     "output_type": "stream",
     "text": [
      "/tmp/ipykernel_2196/1080352182.py:9: UserWarning: Creating a tensor from a list of numpy.ndarrays is extremely slow. Please consider converting the list to a single numpy.ndarray with numpy.array() before converting to a tensor. (Triggered internally at ../torch/csrc/utils/tensor_new.cpp:275.)\n",
      "  train_x = torch.tensor([item[0] for item in train_data]).float()#Extracting and converting training features\n"
     ]
    }
   ],
   "source": [
    "# Converting the training and testing datasets from PySpark's DenseVector format back into PyTorch tensors.\n",
    "# This conversion is necessary for utilizing the datasets with PyTorch's deep learning models and functions.\n",
    "# For both training and testing datasets:\n",
    "# - A list comprehension extracts the features (originally DenseVectors) and labels from each dataset.\n",
    "# - The features are converted to PyTorch tensors and cast to float type (`float()`) because PyTorch models typically expect floating-point inputs for calculations.\n",
    "# - The labels are also converted to PyTorch tensors but are cast to long type (`long()`) since labels are used as integer indices, and PyTorch expects long integers for such cases.\n",
    "# `train_x` and `test_x` store the features tensors for training and testing, respectively. These tensors are suitable for feeding into neural network models as input data.\n",
    "# `train_y` and `test_y` hold the labels tensors for training and testing, respectively. These are used to compare the model's predictions against the actual values during the training and evaluation processes.\n",
    "train_x = torch.tensor([item[0] for item in train_data]).float()#Extracting and converting training features\n",
    "train_y = torch.tensor([item[1] for item in train_data]).long()#Extracting and converting training labels\n",
    "test_x = torch.tensor([item[0] for item in test_data]).float()#Extracting and converting testing features\n",
    "test_y = torch.tensor([item[1] for item in test_data]).long()#Extracting and converting testing labels\n"
   ]
  },
  {
   "cell_type": "code",
   "execution_count": 12,
   "metadata": {
    "id": "9WuLCIgLbr4q"
   },
   "outputs": [],
   "source": [
    "# Importing essential libraries and modules for building and training deep learning models using PyTorch, preprocessing datasets, and evaluating model performance.\n",
    "import torch #torch: The main PyTorch library for tensor computation and automatic differentiation. It's the backbone for building neural networks and performing tensor operations.\n",
    "import torch.nn as nn #torch.nn: A sub-module of PyTorch that provides layers and utilities to construct neural networks. It includes predefined layers, loss functions, and other helpful tools for model building.\n",
    "import torch.optim as optim #torch.optim: A sub-module that implements various optimization algorithms for training neural networks. These algorithms adjust model parameters to minimize the loss function.\n",
    "from torchvision import datasets, transforms #torchvision: An extension of PyTorch that provides access to popular datasets, model architectures, and image transformations for computer vision applications.\n",
    "from torch.utils.data import DataLoader, TensorDataset #torch.utils.data.DataLoader: A utility that wraps a dataset and provides an iterable over the dataset. It supports automatic batching, sampling, shuffling, and multiprocess data loading.\n",
    "from sklearn.metrics import confusion_matrix #sklearn.metrics.confusion_matrix: A function from scikit-learn, a machine learning library for Python. The confusion matrix is a tool for evaluating the accuracy of classification models by comparing the true labels with the predictions."
   ]
  },
  {
   "cell_type": "code",
   "execution_count": 13,
   "metadata": {
    "id": "ngG889SAbfY4"
   },
   "outputs": [],
   "source": [
    "train_dataset = TensorDataset(train_x, train_y)#Creating the training dataset by pairing the training features and labels.\n",
    "test_dataset = TensorDataset(test_x, test_y)#Creating the testing dataset by pairing the testing features and labels."
   ]
  },
  {
   "cell_type": "code",
   "execution_count": 14,
   "metadata": {
    "id": "hPVNbt-7bfWq"
   },
   "outputs": [],
   "source": [
    "# Initializing DataLoader instances for the training and testing datasets using PyTorch.\n",
    "# DataLoader provides an iterable over the given dataset, supporting automatic batching, sampling, shuffling, and multiprocess data loading.\n",
    "# For the training data:\n",
    "# - `train_dataset` is the TensorDataset containing the training data's features and labels.\n",
    "# - `batch_size=128` specifies the number of samples to load per batch. This size is chosen based on the memory capacity and the need to balance computational efficiency with model performance.\n",
    "# - `shuffle=True` indicates that the data should be shuffled at every epoch before the batching. Shuffling helps in reducing overfitting by ensuring that the model does not learn the order of the training data.\n",
    "# For the testing data:\n",
    "# - `test_dataset` is the TensorDataset for the testing data.\n",
    "# - The batch size is also set to 128 for consistency with the training loader, ensuring that the testing phase uses the same batch size.\n",
    "# - Shuffling is not needed for testing, so it is omitted. The goal during testing is to evaluate the model's performance on a fixed set of data.\n",
    "train_loader = DataLoader(train_dataset, batch_size=128, shuffle=True)\n",
    "test_loader = DataLoader(test_dataset, batch_size=128)\n"
   ]
  },
  {
   "cell_type": "code",
   "execution_count": 15,
   "metadata": {
    "id": "NDtBGzKpbfUY"
   },
   "outputs": [],
   "source": [
    "# Define the neural network architecture\n",
    "class Net(nn.Module):\n",
    "    def __init__(self):\n",
    "        super(Net, self).__init__()\n",
    "        self.fc1 = nn.Linear(28 * 28, 128)\n",
    "        self.fc2 = nn.Linear(128, 64)\n",
    "        self.fc3 = nn.Linear(64, 10)\n",
    "\n",
    "    def forward(self, x):\n",
    "        x = torch.relu(self.fc1(x))\n",
    "        x = torch.relu(self.fc2(x))\n",
    "        x = self.fc3(x)\n",
    "        return x\n",
    "\n",
    "# Create an instance of the model\n",
    "model = Net()"
   ]
  },
  {
   "cell_type": "code",
   "execution_count": 16,
   "metadata": {
    "colab": {
     "base_uri": "https://localhost:8080/"
    },
    "id": "x5xTX_e_bfRh",
    "outputId": "966e2656-2635-4aff-cbc6-e2f61aacc09d"
   },
   "outputs": [
    {
     "name": "stdout",
     "output_type": "stream",
     "text": [
      "Epoch [1/10], Loss: 0.3164\n",
      "Epoch [2/10], Loss: 0.1314\n",
      "Epoch [3/10], Loss: 0.0889\n",
      "Epoch [4/10], Loss: 0.0666\n",
      "Epoch [5/10], Loss: 0.0524\n",
      "Epoch [6/10], Loss: 0.0421\n",
      "Epoch [7/10], Loss: 0.0337\n",
      "Epoch [8/10], Loss: 0.0293\n",
      "Epoch [9/10], Loss: 0.0254\n",
      "Epoch [10/10], Loss: 0.0211\n"
     ]
    }
   ],
   "source": [
    "# Define the loss function and optimizer\n",
    "criterion = nn.CrossEntropyLoss()\n",
    "optimizer = optim.Adam(model.parameters(), lr=0.001)\n",
    "\n",
    "# Train the model\n",
    "num_epochs = 10\n",
    "for epoch in range(num_epochs):\n",
    "    running_loss = 0.0\n",
    "    for i, (inputs, labels) in enumerate(train_loader):\n",
    "        inputs = inputs.view(inputs.shape[0], -1)\n",
    "        optimizer.zero_grad()\n",
    "        outputs = model(inputs)\n",
    "        loss = criterion(outputs, labels)\n",
    "        loss.backward()\n",
    "        optimizer.step()\n",
    "        running_loss += loss.item()\n",
    "    print(f\"Epoch [{epoch+1}/{num_epochs}], Loss: {running_loss/len(train_loader):.4f}\")\n"
   ]
  },
  {
   "cell_type": "code",
   "execution_count": 17,
   "metadata": {
    "colab": {
     "base_uri": "https://localhost:8080/"
    },
    "id": "cSYoSQllbfKu",
    "outputId": "5f7a4774-6566-462e-b77b-675bdcfc7f57"
   },
   "outputs": [
    {
     "name": "stdout",
     "output_type": "stream",
     "text": [
      "Test Accuracy: 0.9756\n",
      "Confusion Matrix:\n",
      "[[ 961    1    1    0    2    1    5    2    4    3]\n",
      " [   0 1124    4    0    0    0    3    0    4    0]\n",
      " [   3    1 1014    2    2    0    2    2    6    0]\n",
      " [   0    0    4  988    0    3    0    2   12    1]\n",
      " [   0    0    2    1  964    0    6    1    1    7]\n",
      " [   3    0    0   10    2  863    7    0    6    1]\n",
      " [   3    3    1    0    6    2  940    0    3    0]\n",
      " [   1    8   21    0    3    0    1  982    4    8]\n",
      " [   5    0    1    0    2    1    1    3  959    2]\n",
      " [   2    4    1    5   12    5    1    5   13  961]]\n"
     ]
    }
   ],
   "source": [
    "# Evaluate the model\n",
    "model.eval()\n",
    "y_true = []\n",
    "y_pred = []\n",
    "with torch.no_grad():\n",
    "    for inputs, labels in test_loader:\n",
    "        inputs = inputs.view(inputs.shape[0], -1)\n",
    "        outputs = model(inputs)\n",
    "        _, predicted = torch.max(outputs.data, 1)\n",
    "        y_true.extend(labels.numpy())\n",
    "        y_pred.extend(predicted.numpy())\n",
    "\n",
    "# Calculate accuracy and confusion matrix\n",
    "accuracy = (torch.tensor(y_pred) == torch.tensor(y_true)).float().mean()\n",
    "print(f\"Test Accuracy: {accuracy.item():.4f}\")\n",
    "\n",
    "cm = confusion_matrix(y_true, y_pred)\n",
    "print(\"Confusion Matrix:\")\n",
    "print(cm)"
   ]
  },
  {
   "cell_type": "code",
   "execution_count": 18,
   "metadata": {
    "id": "aYRZ5e2-dfyA"
   },
   "outputs": [],
   "source": [
    "import matplotlib.pyplot as plt\n",
    "import seaborn as sns"
   ]
  },
  {
   "cell_type": "code",
   "execution_count": 19,
   "metadata": {
    "colab": {
     "base_uri": "https://localhost:8080/",
     "height": 472
    },
    "id": "-KlHVkAjbfIJ",
    "outputId": "8c166b2e-cd6d-46f6-d429-cf83ade19a67"
   },
   "outputs": [
    {
     "data": {
      "image/png": "[encoded data removed]",
      "text/plain": [
       "<Figure size 432x288 with 2 Axes>"
      ]
     },
     "metadata": {
      "needs_background": "light"
     },
     "output_type": "display_data"
    }
   ],
   "source": [
    "sns.heatmap(cm, annot=True, fmt=\"d\", cmap=\"Blues\")\n",
    "plt.xlabel(\"Predicted\")\n",
    "plt.ylabel(\"True\")\n",
    "plt.title(\"Confusion Matrix\")\n",
    "plt.show()"
   ]
  },
  {
   "cell_type": "code",
   "execution_count": null,
   "metadata": {
    "id": "QETtk53PbfGY"
   },
   "outputs": [],
   "source": []
  },
  {
   "cell_type": "code",
   "execution_count": null,
   "metadata": {
    "id": "GJvQnd6TbfDy"
   },
   "outputs": [],
   "source": []
  },
  {
   "cell_type": "code",
   "execution_count": null,
   "metadata": {
    "id": "0lWsZ7LubfA5"
   },
   "outputs": [],
   "source": []
  }
 ],
 "metadata": {
  "accelerator": "GPU",
  "colab": {
   "gpuType": "V100",
   "machine_shape": "hm",
   "provenance": []
  },
  "kernelspec": {
   "display_name": "Python 3 (ipykernel)",
   "language": "python",
   "name": "python3"
  },
  "language_info": {
   "codemirror_mode": {
    "name": "ipython",
    "version": 3
   },
   "file_extension": ".py",
   "mimetype": "text/x-python",
   "name": "python",
   "nbconvert_exporter": "python",
   "pygments_lexer": "ipython3",
   "version": "3.11.5"
  }
 },
 "nbformat": 4,
 "nbformat_minor": 1
}
